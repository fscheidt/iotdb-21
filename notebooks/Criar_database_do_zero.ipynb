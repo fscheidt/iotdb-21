{
  "nbformat": 4,
  "nbformat_minor": 0,
  "metadata": {
    "colab": {
      "name": "Criar-database-do-zero.ipynb",
      "provenance": [],
      "collapsed_sections": []
    },
    "kernelspec": {
      "name": "python3",
      "display_name": "Python 3"
    },
    "language_info": {
      "name": "python"
    },
    "widgets": {
      "application/vnd.jupyter.widget-state+json": {
        "7ce2bda92d2c48ddb5a98c37a4bf13d6": {
          "model_module": "jupyter-gmaps",
          "model_name": "FigureModel",
          "model_module_version": "0.9.0",
          "state": {
            "_view_name": "FigureView",
            "_view_module": "jupyter-gmaps",
            "_dom_classes": [],
            "_model_name": "FigureModel",
            "_map": "IPY_MODEL_a2dffb80623f410487bdf31a0ee215e5",
            "_model_module_version": "0.9.0",
            "_view_count": null,
            "_view_module_version": "0.9.0",
            "_toolbar": "IPY_MODEL_43c8372f55484100b1cd62ed872650f6",
            "_errors_box": "IPY_MODEL_02ffeaf954574ed98812571426d8fb38",
            "_model_module": "jupyter-gmaps",
            "layout": "IPY_MODEL_cbeff98eec734054a9ac9ef85ae056a1"
          }
        },
        "a2dffb80623f410487bdf31a0ee215e5": {
          "model_module": "jupyter-gmaps",
          "model_name": "PlainmapModel",
          "model_module_version": "0.9.0",
          "state": {
            "_view_name": "PlainmapView",
            "layers": [
              "IPY_MODEL_f206c58d28694759b91fd2fd93f53e21"
            ],
            "_dom_classes": [],
            "_model_name": "PlainmapModel",
            "initial_viewport": {
              "type": "DATA_BOUNDS"
            },
            "_view_module": "jupyter-gmaps",
            "_model_module_version": "0.9.0",
            "mouse_handling": "COOPERATIVE",
            "_view_count": null,
            "_view_module_version": "0.9.0",
            "data_bounds": [
              [
                -25.617859395974712,
                -54.64585564544643
              ],
              [
                -25.453922604025294,
                -54.462244360494594
              ]
            ],
            "map_type": "ROADMAP",
            "tilt": 45,
            "layout": "IPY_MODEL_26a5f65563864e72ad49dc1ff2b30c29",
            "configuration": {
              "api_key": "AAAAA"
            },
            "_model_module": "jupyter-gmaps"
          }
        },
        "43c8372f55484100b1cd62ed872650f6": {
          "model_module": "jupyter-gmaps",
          "model_name": "ToolbarModel",
          "model_module_version": "0.9.0",
          "state": {
            "_view_name": "ToolbarView",
            "_dom_classes": [],
            "_model_name": "ToolbarModel",
            "_view_module": "jupyter-gmaps",
            "_model_module_version": "0.9.0",
            "_view_count": null,
            "_view_module_version": "0.9.0",
            "layout": "IPY_MODEL_b0413faa3e89422f9953887efdb02884",
            "_model_module": "jupyter-gmaps",
            "layer_controls": []
          }
        },
        "02ffeaf954574ed98812571426d8fb38": {
          "model_module": "jupyter-gmaps",
          "model_name": "ErrorsBoxModel",
          "model_module_version": "0.9.0",
          "state": {
            "_view_name": "ErrorsBoxView",
            "errors": [],
            "_dom_classes": [],
            "_model_name": "ErrorsBoxModel",
            "_view_module": "jupyter-gmaps",
            "_model_module_version": "0.9.0",
            "_view_count": null,
            "_view_module_version": "0.9.0",
            "layout": "IPY_MODEL_c663f88f778b429e8cbc5396e02f1bb9",
            "_model_module": "jupyter-gmaps"
          }
        },
        "cbeff98eec734054a9ac9ef85ae056a1": {
          "model_module": "@jupyter-widgets/base",
          "model_name": "LayoutModel",
          "model_module_version": "1.2.0",
          "state": {
            "_view_name": "LayoutView",
            "grid_template_rows": null,
            "right": null,
            "justify_content": null,
            "_view_module": "@jupyter-widgets/base",
            "overflow": null,
            "_model_module_version": "1.2.0",
            "_view_count": null,
            "flex_flow": null,
            "width": null,
            "min_width": null,
            "border": null,
            "align_items": null,
            "bottom": null,
            "_model_module": "@jupyter-widgets/base",
            "top": null,
            "grid_column": null,
            "overflow_y": null,
            "overflow_x": null,
            "grid_auto_flow": null,
            "grid_area": null,
            "grid_template_columns": null,
            "flex": null,
            "_model_name": "LayoutModel",
            "justify_items": null,
            "grid_row": null,
            "max_height": null,
            "align_content": null,
            "visibility": null,
            "align_self": null,
            "height": "420px",
            "min_height": null,
            "padding": null,
            "grid_auto_rows": null,
            "grid_gap": null,
            "max_width": null,
            "order": null,
            "_view_module_version": "1.2.0",
            "grid_template_areas": null,
            "object_position": null,
            "object_fit": null,
            "grid_auto_columns": null,
            "margin": null,
            "display": null,
            "left": null
          }
        },
        "f206c58d28694759b91fd2fd93f53e21": {
          "model_module": "jupyter-gmaps",
          "model_name": "MarkerLayerModel",
          "model_module_version": "0.9.0",
          "state": {
            "_view_name": "MarkerLayerView",
            "_model_name": "MarkerLayerModel",
            "_view_module": "jupyter-gmaps",
            "_model_module_version": "0.9.0",
            "markers": [
              "IPY_MODEL_357212298db04848a6e85926ffa8b10c",
              "IPY_MODEL_b99da2c135764055b4152833eb433475",
              "IPY_MODEL_e44ba1bbac064f3f8fe857700cc782c1"
            ],
            "_view_count": null,
            "_view_module_version": "0.9.0",
            "data_bounds": [
              [
                -25.617859395974712,
                -54.64585564544643
              ],
              [
                -25.453922604025294,
                -54.462244360494594
              ]
            ],
            "_model_module": "jupyter-gmaps"
          }
        },
        "26a5f65563864e72ad49dc1ff2b30c29": {
          "model_module": "@jupyter-widgets/base",
          "model_name": "LayoutModel",
          "model_module_version": "1.2.0",
          "state": {
            "_view_name": "LayoutView",
            "grid_template_rows": null,
            "right": null,
            "justify_content": null,
            "_view_module": "@jupyter-widgets/base",
            "overflow": null,
            "_model_module_version": "1.2.0",
            "_view_count": null,
            "flex_flow": null,
            "width": "100%",
            "min_width": null,
            "border": null,
            "align_items": null,
            "bottom": null,
            "_model_module": "@jupyter-widgets/base",
            "top": null,
            "grid_column": null,
            "overflow_y": null,
            "overflow_x": null,
            "grid_auto_flow": null,
            "grid_area": null,
            "grid_template_columns": null,
            "flex": null,
            "_model_name": "LayoutModel",
            "justify_items": null,
            "grid_row": null,
            "max_height": null,
            "align_content": null,
            "visibility": null,
            "align_self": null,
            "height": "100%",
            "min_height": null,
            "padding": null,
            "grid_auto_rows": null,
            "grid_gap": null,
            "max_width": null,
            "order": null,
            "_view_module_version": "1.2.0",
            "grid_template_areas": null,
            "object_position": null,
            "object_fit": null,
            "grid_auto_columns": null,
            "margin": null,
            "display": null,
            "left": null
          }
        },
        "b0413faa3e89422f9953887efdb02884": {
          "model_module": "@jupyter-widgets/base",
          "model_name": "LayoutModel",
          "model_module_version": "1.2.0",
          "state": {
            "_view_name": "LayoutView",
            "grid_template_rows": null,
            "right": null,
            "justify_content": null,
            "_view_module": "@jupyter-widgets/base",
            "overflow": null,
            "_model_module_version": "1.2.0",
            "_view_count": null,
            "flex_flow": null,
            "width": null,
            "min_width": null,
            "border": null,
            "align_items": null,
            "bottom": null,
            "_model_module": "@jupyter-widgets/base",
            "top": null,
            "grid_column": null,
            "overflow_y": null,
            "overflow_x": null,
            "grid_auto_flow": null,
            "grid_area": null,
            "grid_template_columns": null,
            "flex": null,
            "_model_name": "LayoutModel",
            "justify_items": null,
            "grid_row": null,
            "max_height": null,
            "align_content": null,
            "visibility": null,
            "align_self": null,
            "height": null,
            "min_height": null,
            "padding": null,
            "grid_auto_rows": null,
            "grid_gap": null,
            "max_width": null,
            "order": null,
            "_view_module_version": "1.2.0",
            "grid_template_areas": null,
            "object_position": null,
            "object_fit": null,
            "grid_auto_columns": null,
            "margin": null,
            "display": null,
            "left": null
          }
        },
        "c663f88f778b429e8cbc5396e02f1bb9": {
          "model_module": "@jupyter-widgets/base",
          "model_name": "LayoutModel",
          "model_module_version": "1.2.0",
          "state": {
            "_view_name": "LayoutView",
            "grid_template_rows": null,
            "right": null,
            "justify_content": null,
            "_view_module": "@jupyter-widgets/base",
            "overflow": null,
            "_model_module_version": "1.2.0",
            "_view_count": null,
            "flex_flow": null,
            "width": null,
            "min_width": null,
            "border": null,
            "align_items": null,
            "bottom": null,
            "_model_module": "@jupyter-widgets/base",
            "top": null,
            "grid_column": null,
            "overflow_y": null,
            "overflow_x": null,
            "grid_auto_flow": null,
            "grid_area": null,
            "grid_template_columns": null,
            "flex": null,
            "_model_name": "LayoutModel",
            "justify_items": null,
            "grid_row": null,
            "max_height": null,
            "align_content": null,
            "visibility": null,
            "align_self": null,
            "height": null,
            "min_height": null,
            "padding": null,
            "grid_auto_rows": null,
            "grid_gap": null,
            "max_width": null,
            "order": null,
            "_view_module_version": "1.2.0",
            "grid_template_areas": null,
            "object_position": null,
            "object_fit": null,
            "grid_auto_columns": null,
            "margin": null,
            "display": null,
            "left": null
          }
        },
        "357212298db04848a6e85926ffa8b10c": {
          "model_module": "jupyter-gmaps",
          "model_name": "MarkerModel",
          "model_module_version": "0.9.0",
          "state": {
            "_view_name": "MarkerView",
            "display_info_box": false,
            "info_box_content": "",
            "_model_name": "MarkerModel",
            "_view_module": "jupyter-gmaps",
            "_model_module_version": "0.9.0",
            "_view_count": null,
            "_view_module_version": "0.9.0",
            "location": [
              -25.593778,
              -54.490199
            ],
            "hover_text": "",
            "label": "",
            "_model_module": "jupyter-gmaps"
          }
        },
        "b99da2c135764055b4152833eb433475": {
          "model_module": "jupyter-gmaps",
          "model_name": "MarkerModel",
          "model_module_version": "0.9.0",
          "state": {
            "_view_name": "MarkerView",
            "display_info_box": false,
            "info_box_content": "",
            "_model_name": "MarkerModel",
            "_view_module": "jupyter-gmaps",
            "_model_module_version": "0.9.0",
            "_view_count": null,
            "_view_module_version": "0.9.0",
            "location": [
              -25.504422,
              -54.575832
            ],
            "hover_text": "",
            "label": "",
            "_model_module": "jupyter-gmaps"
          }
        },
        "e44ba1bbac064f3f8fe857700cc782c1": {
          "model_module": "jupyter-gmaps",
          "model_name": "MarkerModel",
          "model_module_version": "0.9.0",
          "state": {
            "_view_name": "MarkerView",
            "display_info_box": false,
            "info_box_content": "",
            "_model_name": "MarkerModel",
            "_view_module": "jupyter-gmaps",
            "_model_module_version": "0.9.0",
            "_view_count": null,
            "_view_module_version": "0.9.0",
            "location": [
              -25.509473,
              -54.596119
            ],
            "hover_text": "",
            "label": "",
            "_model_module": "jupyter-gmaps"
          }
        }
      }
    }
  },
  "cells": [
    {
      "cell_type": "markdown",
      "source": [
        "# Iniciando um novo database\n",
        "E inserir documentos manualmente para fins didáticos do uso de insert, update, delete.\n"
      ],
      "metadata": {
        "id": "w7-2v1lbwUVC"
      }
    },
    {
      "cell_type": "code",
      "source": [
        "from google.colab import drive\n",
        "drive.mount('/content/gdrive')"
      ],
      "metadata": {
        "colab": {
          "base_uri": "https://localhost:8080/"
        },
        "id": "_6sXRq46wjhF",
        "outputId": "b6295432-d844-4f05-b265-6dc5fe45df66"
      },
      "execution_count": 1,
      "outputs": [
        {
          "output_type": "stream",
          "name": "stdout",
          "text": [
            "Mounted at /content/gdrive\n"
          ]
        }
      ]
    },
    {
      "cell_type": "code",
      "source": [
        "# instalação do mongodb\n",
        "!apt install mongodb >log\n",
        "!service mongodb start"
      ],
      "metadata": {
        "colab": {
          "base_uri": "https://localhost:8080/"
        },
        "id": "_KiZFqhkws-L",
        "outputId": "17327c67-dab4-4a07-d09c-6d91a54ee184"
      },
      "execution_count": 2,
      "outputs": [
        {
          "output_type": "stream",
          "name": "stdout",
          "text": [
            "\n",
            "WARNING: apt does not have a stable CLI interface. Use with caution in scripts.\n",
            "\n",
            " * Starting database mongodb\n",
            "   ...done.\n"
          ]
        }
      ]
    },
    {
      "cell_type": "code",
      "source": [
        "from pprint import pprint"
      ],
      "metadata": {
        "id": "jU-6kMvhjiRc"
      },
      "execution_count": 3,
      "outputs": []
    },
    {
      "cell_type": "code",
      "source": [
        "import pymongo\n",
        "client = pymongo.MongoClient()\n",
        "\n",
        "# database 'iotdb' vai ser criado:\n",
        "db = client.get_database('iotdb')"
      ],
      "metadata": {
        "id": "kOeEF4wIw18J"
      },
      "execution_count": 4,
      "outputs": []
    },
    {
      "cell_type": "markdown",
      "source": [
        "# Criar 3 dispositivos\n",
        "A seguir criamos 3 devices manualmente usando dicionários no python, que serão convertidos para o formato json no mongodb.\n",
        "\n",
        "Cada device representa um documento no mongodb.\n",
        "\n"
      ],
      "metadata": {
        "id": "mNB13FcGjtnA"
      }
    },
    {
      "cell_type": "code",
      "source": [
        "# Definir device 1:\n",
        "dev1 =  {\n",
        "  '_id': 1,\n",
        "  'model': 'arduino',\n",
        "  'latlng': (-25.593778,-54.490199),\n",
        "  'sensors': ['temperature', 'humidity']\n",
        "}\n",
        "pprint(dev1)"
      ],
      "metadata": {
        "id": "0CaIgU-0x_gA",
        "colab": {
          "base_uri": "https://localhost:8080/"
        },
        "outputId": "c139b783-812a-4407-a12f-abaabeb18c3d"
      },
      "execution_count": 5,
      "outputs": [
        {
          "output_type": "stream",
          "name": "stdout",
          "text": [
            "{'_id': 1,\n",
            " 'latlng': (-25.593778, -54.490199),\n",
            " 'model': 'arduino',\n",
            " 'sensors': ['temperature', 'humidity']}\n"
          ]
        }
      ]
    },
    {
      "cell_type": "code",
      "source": [
        "dev2 = {\n",
        "  '_id': 2,\n",
        "  'model': 'raspberry',\n",
        "  'latlng': (-25.504422,-54.575832),\n",
        "  'sensors': ['temperature', 'pressure', 'light']\n",
        "}\n",
        "pprint(dev2)"
      ],
      "metadata": {
        "colab": {
          "base_uri": "https://localhost:8080/"
        },
        "id": "02_4yTRJjcTj",
        "outputId": "5d648278-ac4c-4271-89fd-763c213ef7bd"
      },
      "execution_count": 6,
      "outputs": [
        {
          "output_type": "stream",
          "name": "stdout",
          "text": [
            "{'_id': 2,\n",
            " 'latlng': (-25.504422, -54.575832),\n",
            " 'model': 'raspberry',\n",
            " 'sensors': ['temperature', 'pressure', 'light']}\n"
          ]
        }
      ]
    },
    {
      "cell_type": "code",
      "source": [
        "dev3 = {\n",
        "  '_id': 3,\n",
        "  'model': 'raspberry',\n",
        "  'latlng': (-25.509473,-54.596119),\n",
        "  'sensors': ['temperature', 'sound', 'vibration']\n",
        "}\n",
        "pprint(dev3)"
      ],
      "metadata": {
        "colab": {
          "base_uri": "https://localhost:8080/"
        },
        "id": "Pg-Mg-0vkOY1",
        "outputId": "8547d7cd-2520-46ab-d770-95d99b30f4b7"
      },
      "execution_count": 7,
      "outputs": [
        {
          "output_type": "stream",
          "name": "stdout",
          "text": [
            "{'_id': 3,\n",
            " 'latlng': (-25.509473, -54.596119),\n",
            " 'model': 'raspberry',\n",
            " 'sensors': ['temperature', 'sound', 'vibration']}\n"
          ]
        }
      ]
    },
    {
      "cell_type": "code",
      "source": [
        "# SE precisar recriar a collection devices, basta fazer um drop na collection:\n",
        "# db.devices.drop()"
      ],
      "metadata": {
        "id": "QsgU8_AY-IuA"
      },
      "execution_count": 8,
      "outputs": []
    },
    {
      "cell_type": "code",
      "source": [
        "# Aqui efetivamente salvamos cada device na collection devices\n",
        "\n",
        "db.devices.insert_one(dev1)\n",
        "\n",
        "db.devices.insert_one(dev2)\n",
        "\n",
        "db.devices.insert_one(dev3)"
      ],
      "metadata": {
        "colab": {
          "base_uri": "https://localhost:8080/"
        },
        "id": "2hKao9MF0c50",
        "outputId": "a768118c-6ae1-43a7-d7af-c28ed215482c"
      },
      "execution_count": 9,
      "outputs": [
        {
          "output_type": "execute_result",
          "data": {
            "text/plain": [
              "<pymongo.results.InsertOneResult at 0x7fa7cec41f00>"
            ]
          },
          "metadata": {},
          "execution_count": 9
        }
      ]
    },
    {
      "cell_type": "code",
      "source": [
        "list(db.devices.find())"
      ],
      "metadata": {
        "colab": {
          "base_uri": "https://localhost:8080/"
        },
        "id": "VW7pgxyw0lbC",
        "outputId": "0ff46907-9099-49ef-88ae-6b0faa03aade"
      },
      "execution_count": 10,
      "outputs": [
        {
          "output_type": "execute_result",
          "data": {
            "text/plain": [
              "[{'_id': 1,\n",
              "  'latlng': [-25.593778, -54.490199],\n",
              "  'model': 'arduino',\n",
              "  'sensors': ['temperature', 'humidity']},\n",
              " {'_id': 2,\n",
              "  'latlng': [-25.504422, -54.575832],\n",
              "  'model': 'raspberry',\n",
              "  'sensors': ['temperature', 'pressure', 'light']},\n",
              " {'_id': 3,\n",
              "  'latlng': [-25.509473, -54.596119],\n",
              "  'model': 'raspberry',\n",
              "  'sensors': ['temperature', 'sound', 'vibration']}]"
            ]
          },
          "metadata": {},
          "execution_count": 10
        }
      ]
    },
    {
      "cell_type": "code",
      "source": [
        "# criar um atributo data que contém um vetor com as medições\n",
        "dev1['data'] = [\n",
        "  {'ts': 1639802762, 'temp': 33.2, 'hum': 12.1},\n",
        "  {'ts': 1639802822, 'temp': 31.1, 'hum': 10.1},\n",
        "  {'ts': 1639802884, 'temp': 32.2, 'hum': 15.1}\n",
        "]"
      ],
      "metadata": {
        "id": "BsRDdBUb1dyj"
      },
      "execution_count": 11,
      "outputs": []
    },
    {
      "cell_type": "code",
      "source": [
        "import pprint\n",
        "pprint.pprint(dev1)"
      ],
      "metadata": {
        "colab": {
          "base_uri": "https://localhost:8080/"
        },
        "id": "lpBRi9qc4FqU",
        "outputId": "4ae8b259-b491-4b7f-8d80-d3ac5c27fbdd"
      },
      "execution_count": 12,
      "outputs": [
        {
          "output_type": "stream",
          "name": "stdout",
          "text": [
            "{'_id': 1,\n",
            " 'data': [{'hum': 12.1, 'temp': 33.2, 'ts': 1639802762},\n",
            "          {'hum': 10.1, 'temp': 31.1, 'ts': 1639802822},\n",
            "          {'hum': 15.1, 'temp': 32.2, 'ts': 1639802884}],\n",
            " 'latlng': (-25.593778, -54.490199),\n",
            " 'model': 'arduino',\n",
            " 'sensors': ['temperature', 'humidity']}\n"
          ]
        }
      ]
    },
    {
      "cell_type": "code",
      "source": [
        "# UPDATE opção 1:\n",
        "# vamos atualizar o device device(id=1) no mongodb setando apenas o campo 'data'\n",
        "#db.devices.update_one({'_id': 1}, {\"$set\": { 'data': dev1['data'] } } )"
      ],
      "metadata": {
        "id": "Rq5NuC1W4YSH"
      },
      "execution_count": 13,
      "outputs": []
    },
    {
      "cell_type": "code",
      "source": [
        "# UPDATE opção 2:\n",
        "# também podemos fazer o update (substituição) do documento inteiro:\n",
        "db.devices.replace_one({'_id': 1}, dev1)"
      ],
      "metadata": {
        "colab": {
          "base_uri": "https://localhost:8080/"
        },
        "id": "wGCgD4s96Ahn",
        "outputId": "9faf8f84-2dc6-456c-b8ee-16b71aeee617"
      },
      "execution_count": 14,
      "outputs": [
        {
          "output_type": "execute_result",
          "data": {
            "text/plain": [
              "<pymongo.results.UpdateResult at 0x7fa7cec629b0>"
            ]
          },
          "metadata": {},
          "execution_count": 14
        }
      ]
    },
    {
      "cell_type": "code",
      "source": [
        "# Como já vimos o mongodb é schema-less, permitindo que dev1 tenha o atributo \n",
        "# data enquanto dev2 e dev3 não possuem dados nesse exemplo\n",
        "locations = []\n",
        "for dev in db.devices.find():\n",
        "  pprint.pprint(dev)\n",
        "  locations.append((dev['latlng'][0],dev['latlng'][1]))"
      ],
      "metadata": {
        "colab": {
          "base_uri": "https://localhost:8080/"
        },
        "id": "3i753Wwn5eXD",
        "outputId": "93302e2b-ba0c-4394-c373-b712c2d8f3ed"
      },
      "execution_count": 15,
      "outputs": [
        {
          "output_type": "stream",
          "name": "stdout",
          "text": [
            "{'_id': 1,\n",
            " 'data': [{'hum': 12.1, 'temp': 33.2, 'ts': 1639802762},\n",
            "          {'hum': 10.1, 'temp': 31.1, 'ts': 1639802822},\n",
            "          {'hum': 15.1, 'temp': 32.2, 'ts': 1639802884}],\n",
            " 'latlng': [-25.593778, -54.490199],\n",
            " 'model': 'arduino',\n",
            " 'sensors': ['temperature', 'humidity']}\n",
            "{'_id': 2,\n",
            " 'latlng': [-25.504422, -54.575832],\n",
            " 'model': 'raspberry',\n",
            " 'sensors': ['temperature', 'pressure', 'light']}\n",
            "{'_id': 3,\n",
            " 'latlng': [-25.509473, -54.596119],\n",
            " 'model': 'raspberry',\n",
            " 'sensors': ['temperature', 'sound', 'vibration']}\n"
          ]
        }
      ]
    },
    {
      "cell_type": "code",
      "source": [
        "# extraindo lat long num array para usar no gmaps\n",
        "locs = [(lt[0],lt[1]) for lt in locations]\n",
        "locs"
      ],
      "metadata": {
        "colab": {
          "base_uri": "https://localhost:8080/"
        },
        "id": "iMxC1w0l84d3",
        "outputId": "b2e63256-2586-4c18-e99b-53bf5c234aa7"
      },
      "execution_count": 16,
      "outputs": [
        {
          "output_type": "execute_result",
          "data": {
            "text/plain": [
              "[(-25.593778, -54.490199), (-25.504422, -54.575832), (-25.509473, -54.596119)]"
            ]
          },
          "metadata": {},
          "execution_count": 16
        }
      ]
    },
    {
      "cell_type": "code",
      "source": [
        "from google.colab import output\n",
        "output.enable_custom_widget_manager()"
      ],
      "metadata": {
        "id": "yDgyH3rL72zy"
      },
      "execution_count": 18,
      "outputs": []
    },
    {
      "cell_type": "code",
      "source": [
        "# instalar o gmaps\n",
        "!pip install gmaps"
      ],
      "metadata": {
        "id": "CumU-hOU8QgG",
        "colab": {
          "base_uri": "https://localhost:8080/"
        },
        "outputId": "b783b20e-c0a8-47f5-b520-69ca668c0206"
      },
      "execution_count": 21,
      "outputs": [
        {
          "output_type": "stream",
          "name": "stdout",
          "text": [
            "Collecting gmaps\n",
            "  Downloading gmaps-0.9.0.tar.gz (1.1 MB)\n",
            "\u001b[?25l\r\u001b[K     |▎                               | 10 kB 21.8 MB/s eta 0:00:01\r\u001b[K     |▋                               | 20 kB 28.8 MB/s eta 0:00:01\r\u001b[K     |█                               | 30 kB 14.3 MB/s eta 0:00:01\r\u001b[K     |█▎                              | 40 kB 10.4 MB/s eta 0:00:01\r\u001b[K     |█▌                              | 51 kB 5.2 MB/s eta 0:00:01\r\u001b[K     |█▉                              | 61 kB 5.3 MB/s eta 0:00:01\r\u001b[K     |██▏                             | 71 kB 5.8 MB/s eta 0:00:01\r\u001b[K     |██▌                             | 81 kB 6.5 MB/s eta 0:00:01\r\u001b[K     |██▉                             | 92 kB 4.7 MB/s eta 0:00:01\r\u001b[K     |███                             | 102 kB 5.2 MB/s eta 0:00:01\r\u001b[K     |███▍                            | 112 kB 5.2 MB/s eta 0:00:01\r\u001b[K     |███▊                            | 122 kB 5.2 MB/s eta 0:00:01\r\u001b[K     |████                            | 133 kB 5.2 MB/s eta 0:00:01\r\u001b[K     |████▍                           | 143 kB 5.2 MB/s eta 0:00:01\r\u001b[K     |████▋                           | 153 kB 5.2 MB/s eta 0:00:01\r\u001b[K     |█████                           | 163 kB 5.2 MB/s eta 0:00:01\r\u001b[K     |█████▎                          | 174 kB 5.2 MB/s eta 0:00:01\r\u001b[K     |█████▋                          | 184 kB 5.2 MB/s eta 0:00:01\r\u001b[K     |██████                          | 194 kB 5.2 MB/s eta 0:00:01\r\u001b[K     |██████▏                         | 204 kB 5.2 MB/s eta 0:00:01\r\u001b[K     |██████▌                         | 215 kB 5.2 MB/s eta 0:00:01\r\u001b[K     |██████▉                         | 225 kB 5.2 MB/s eta 0:00:01\r\u001b[K     |███████▏                        | 235 kB 5.2 MB/s eta 0:00:01\r\u001b[K     |███████▌                        | 245 kB 5.2 MB/s eta 0:00:01\r\u001b[K     |███████▊                        | 256 kB 5.2 MB/s eta 0:00:01\r\u001b[K     |████████                        | 266 kB 5.2 MB/s eta 0:00:01\r\u001b[K     |████████▍                       | 276 kB 5.2 MB/s eta 0:00:01\r\u001b[K     |████████▊                       | 286 kB 5.2 MB/s eta 0:00:01\r\u001b[K     |█████████                       | 296 kB 5.2 MB/s eta 0:00:01\r\u001b[K     |█████████▎                      | 307 kB 5.2 MB/s eta 0:00:01\r\u001b[K     |█████████▋                      | 317 kB 5.2 MB/s eta 0:00:01\r\u001b[K     |██████████                      | 327 kB 5.2 MB/s eta 0:00:01\r\u001b[K     |██████████▎                     | 337 kB 5.2 MB/s eta 0:00:01\r\u001b[K     |██████████▋                     | 348 kB 5.2 MB/s eta 0:00:01\r\u001b[K     |██████████▉                     | 358 kB 5.2 MB/s eta 0:00:01\r\u001b[K     |███████████▏                    | 368 kB 5.2 MB/s eta 0:00:01\r\u001b[K     |███████████▌                    | 378 kB 5.2 MB/s eta 0:00:01\r\u001b[K     |███████████▉                    | 389 kB 5.2 MB/s eta 0:00:01\r\u001b[K     |████████████▏                   | 399 kB 5.2 MB/s eta 0:00:01\r\u001b[K     |████████████▍                   | 409 kB 5.2 MB/s eta 0:00:01\r\u001b[K     |████████████▊                   | 419 kB 5.2 MB/s eta 0:00:01\r\u001b[K     |█████████████                   | 430 kB 5.2 MB/s eta 0:00:01\r\u001b[K     |█████████████▍                  | 440 kB 5.2 MB/s eta 0:00:01\r\u001b[K     |█████████████▊                  | 450 kB 5.2 MB/s eta 0:00:01\r\u001b[K     |██████████████                  | 460 kB 5.2 MB/s eta 0:00:01\r\u001b[K     |██████████████▎                 | 471 kB 5.2 MB/s eta 0:00:01\r\u001b[K     |██████████████▋                 | 481 kB 5.2 MB/s eta 0:00:01\r\u001b[K     |███████████████                 | 491 kB 5.2 MB/s eta 0:00:01\r\u001b[K     |███████████████▎                | 501 kB 5.2 MB/s eta 0:00:01\r\u001b[K     |███████████████▌                | 512 kB 5.2 MB/s eta 0:00:01\r\u001b[K     |███████████████▉                | 522 kB 5.2 MB/s eta 0:00:01\r\u001b[K     |████████████████▏               | 532 kB 5.2 MB/s eta 0:00:01\r\u001b[K     |████████████████▌               | 542 kB 5.2 MB/s eta 0:00:01\r\u001b[K     |████████████████▉               | 552 kB 5.2 MB/s eta 0:00:01\r\u001b[K     |█████████████████               | 563 kB 5.2 MB/s eta 0:00:01\r\u001b[K     |█████████████████▍              | 573 kB 5.2 MB/s eta 0:00:01\r\u001b[K     |█████████████████▊              | 583 kB 5.2 MB/s eta 0:00:01\r\u001b[K     |██████████████████              | 593 kB 5.2 MB/s eta 0:00:01\r\u001b[K     |██████████████████▍             | 604 kB 5.2 MB/s eta 0:00:01\r\u001b[K     |██████████████████▋             | 614 kB 5.2 MB/s eta 0:00:01\r\u001b[K     |███████████████████             | 624 kB 5.2 MB/s eta 0:00:01\r\u001b[K     |███████████████████▎            | 634 kB 5.2 MB/s eta 0:00:01\r\u001b[K     |███████████████████▋            | 645 kB 5.2 MB/s eta 0:00:01\r\u001b[K     |████████████████████            | 655 kB 5.2 MB/s eta 0:00:01\r\u001b[K     |████████████████████▏           | 665 kB 5.2 MB/s eta 0:00:01\r\u001b[K     |████████████████████▌           | 675 kB 5.2 MB/s eta 0:00:01\r\u001b[K     |████████████████████▉           | 686 kB 5.2 MB/s eta 0:00:01\r\u001b[K     |█████████████████████▏          | 696 kB 5.2 MB/s eta 0:00:01\r\u001b[K     |█████████████████████▌          | 706 kB 5.2 MB/s eta 0:00:01\r\u001b[K     |█████████████████████▊          | 716 kB 5.2 MB/s eta 0:00:01\r\u001b[K     |██████████████████████          | 727 kB 5.2 MB/s eta 0:00:01\r\u001b[K     |██████████████████████▍         | 737 kB 5.2 MB/s eta 0:00:01\r\u001b[K     |██████████████████████▊         | 747 kB 5.2 MB/s eta 0:00:01\r\u001b[K     |███████████████████████         | 757 kB 5.2 MB/s eta 0:00:01\r\u001b[K     |███████████████████████▎        | 768 kB 5.2 MB/s eta 0:00:01\r\u001b[K     |███████████████████████▋        | 778 kB 5.2 MB/s eta 0:00:01\r\u001b[K     |████████████████████████        | 788 kB 5.2 MB/s eta 0:00:01\r\u001b[K     |████████████████████████▎       | 798 kB 5.2 MB/s eta 0:00:01\r\u001b[K     |████████████████████████▋       | 808 kB 5.2 MB/s eta 0:00:01\r\u001b[K     |████████████████████████▉       | 819 kB 5.2 MB/s eta 0:00:01\r\u001b[K     |█████████████████████████▏      | 829 kB 5.2 MB/s eta 0:00:01\r\u001b[K     |█████████████████████████▌      | 839 kB 5.2 MB/s eta 0:00:01\r\u001b[K     |█████████████████████████▉      | 849 kB 5.2 MB/s eta 0:00:01\r\u001b[K     |██████████████████████████▏     | 860 kB 5.2 MB/s eta 0:00:01\r\u001b[K     |██████████████████████████▍     | 870 kB 5.2 MB/s eta 0:00:01\r\u001b[K     |██████████████████████████▊     | 880 kB 5.2 MB/s eta 0:00:01\r\u001b[K     |███████████████████████████     | 890 kB 5.2 MB/s eta 0:00:01\r\u001b[K     |███████████████████████████▍    | 901 kB 5.2 MB/s eta 0:00:01\r\u001b[K     |███████████████████████████▊    | 911 kB 5.2 MB/s eta 0:00:01\r\u001b[K     |████████████████████████████    | 921 kB 5.2 MB/s eta 0:00:01\r\u001b[K     |████████████████████████████▎   | 931 kB 5.2 MB/s eta 0:00:01\r\u001b[K     |████████████████████████████▋   | 942 kB 5.2 MB/s eta 0:00:01\r\u001b[K     |█████████████████████████████   | 952 kB 5.2 MB/s eta 0:00:01\r\u001b[K     |█████████████████████████████▎  | 962 kB 5.2 MB/s eta 0:00:01\r\u001b[K     |█████████████████████████████▌  | 972 kB 5.2 MB/s eta 0:00:01\r\u001b[K     |█████████████████████████████▉  | 983 kB 5.2 MB/s eta 0:00:01\r\u001b[K     |██████████████████████████████▏ | 993 kB 5.2 MB/s eta 0:00:01\r\u001b[K     |██████████████████████████████▌ | 1.0 MB 5.2 MB/s eta 0:00:01\r\u001b[K     |██████████████████████████████▉ | 1.0 MB 5.2 MB/s eta 0:00:01\r\u001b[K     |███████████████████████████████ | 1.0 MB 5.2 MB/s eta 0:00:01\r\u001b[K     |███████████████████████████████▍| 1.0 MB 5.2 MB/s eta 0:00:01\r\u001b[K     |███████████████████████████████▊| 1.0 MB 5.2 MB/s eta 0:00:01\r\u001b[K     |████████████████████████████████| 1.1 MB 5.2 MB/s \n",
            "\u001b[?25hRequirement already satisfied: ipython>=5.3.0 in /usr/local/lib/python3.7/dist-packages (from gmaps) (5.5.0)\n",
            "Requirement already satisfied: ipywidgets>=7.0.0 in /usr/local/lib/python3.7/dist-packages (from gmaps) (7.6.5)\n",
            "Requirement already satisfied: traitlets>=4.3.0 in /usr/local/lib/python3.7/dist-packages (from gmaps) (5.1.1)\n",
            "Collecting geojson>=2.0.0\n",
            "  Downloading geojson-2.5.0-py2.py3-none-any.whl (14 kB)\n",
            "Requirement already satisfied: six in /usr/local/lib/python3.7/dist-packages (from gmaps) (1.15.0)\n",
            "Requirement already satisfied: decorator in /usr/local/lib/python3.7/dist-packages (from ipython>=5.3.0->gmaps) (4.4.2)\n",
            "Requirement already satisfied: pygments in /usr/local/lib/python3.7/dist-packages (from ipython>=5.3.0->gmaps) (2.6.1)\n",
            "Requirement already satisfied: pickleshare in /usr/local/lib/python3.7/dist-packages (from ipython>=5.3.0->gmaps) (0.7.5)\n",
            "Requirement already satisfied: pexpect in /usr/local/lib/python3.7/dist-packages (from ipython>=5.3.0->gmaps) (4.8.0)\n",
            "Requirement already satisfied: setuptools>=18.5 in /usr/local/lib/python3.7/dist-packages (from ipython>=5.3.0->gmaps) (57.4.0)\n",
            "Requirement already satisfied: simplegeneric>0.8 in /usr/local/lib/python3.7/dist-packages (from ipython>=5.3.0->gmaps) (0.8.1)\n",
            "Requirement already satisfied: prompt-toolkit<2.0.0,>=1.0.4 in /usr/local/lib/python3.7/dist-packages (from ipython>=5.3.0->gmaps) (1.0.18)\n",
            "Requirement already satisfied: ipykernel>=4.5.1 in /usr/local/lib/python3.7/dist-packages (from ipywidgets>=7.0.0->gmaps) (4.10.1)\n",
            "Requirement already satisfied: jupyterlab-widgets>=1.0.0 in /usr/local/lib/python3.7/dist-packages (from ipywidgets>=7.0.0->gmaps) (1.0.2)\n",
            "Requirement already satisfied: nbformat>=4.2.0 in /usr/local/lib/python3.7/dist-packages (from ipywidgets>=7.0.0->gmaps) (5.1.3)\n",
            "Requirement already satisfied: widgetsnbextension~=3.5.0 in /usr/local/lib/python3.7/dist-packages (from ipywidgets>=7.0.0->gmaps) (3.5.2)\n",
            "Requirement already satisfied: ipython-genutils~=0.2.0 in /usr/local/lib/python3.7/dist-packages (from ipywidgets>=7.0.0->gmaps) (0.2.0)\n",
            "Requirement already satisfied: jupyter-client in /usr/local/lib/python3.7/dist-packages (from ipykernel>=4.5.1->ipywidgets>=7.0.0->gmaps) (5.3.5)\n",
            "Requirement already satisfied: tornado>=4.0 in /usr/local/lib/python3.7/dist-packages (from ipykernel>=4.5.1->ipywidgets>=7.0.0->gmaps) (5.1.1)\n",
            "Requirement already satisfied: jsonschema!=2.5.0,>=2.4 in /usr/local/lib/python3.7/dist-packages (from nbformat>=4.2.0->ipywidgets>=7.0.0->gmaps) (2.6.0)\n",
            "Requirement already satisfied: jupyter-core in /usr/local/lib/python3.7/dist-packages (from nbformat>=4.2.0->ipywidgets>=7.0.0->gmaps) (4.9.1)\n",
            "Requirement already satisfied: wcwidth in /usr/local/lib/python3.7/dist-packages (from prompt-toolkit<2.0.0,>=1.0.4->ipython>=5.3.0->gmaps) (0.2.5)\n",
            "Requirement already satisfied: notebook>=4.4.1 in /usr/local/lib/python3.7/dist-packages (from widgetsnbextension~=3.5.0->ipywidgets>=7.0.0->gmaps) (5.3.1)\n",
            "Requirement already satisfied: nbconvert in /usr/local/lib/python3.7/dist-packages (from notebook>=4.4.1->widgetsnbextension~=3.5.0->ipywidgets>=7.0.0->gmaps) (5.6.1)\n",
            "Requirement already satisfied: terminado>=0.8.1 in /usr/local/lib/python3.7/dist-packages (from notebook>=4.4.1->widgetsnbextension~=3.5.0->ipywidgets>=7.0.0->gmaps) (0.12.1)\n",
            "Requirement already satisfied: jinja2 in /usr/local/lib/python3.7/dist-packages (from notebook>=4.4.1->widgetsnbextension~=3.5.0->ipywidgets>=7.0.0->gmaps) (2.11.3)\n",
            "Requirement already satisfied: Send2Trash in /usr/local/lib/python3.7/dist-packages (from notebook>=4.4.1->widgetsnbextension~=3.5.0->ipywidgets>=7.0.0->gmaps) (1.8.0)\n",
            "Requirement already satisfied: pyzmq>=13 in /usr/local/lib/python3.7/dist-packages (from jupyter-client->ipykernel>=4.5.1->ipywidgets>=7.0.0->gmaps) (22.3.0)\n",
            "Requirement already satisfied: python-dateutil>=2.1 in /usr/local/lib/python3.7/dist-packages (from jupyter-client->ipykernel>=4.5.1->ipywidgets>=7.0.0->gmaps) (2.8.2)\n",
            "Requirement already satisfied: ptyprocess in /usr/local/lib/python3.7/dist-packages (from terminado>=0.8.1->notebook>=4.4.1->widgetsnbextension~=3.5.0->ipywidgets>=7.0.0->gmaps) (0.7.0)\n",
            "Requirement already satisfied: MarkupSafe>=0.23 in /usr/local/lib/python3.7/dist-packages (from jinja2->notebook>=4.4.1->widgetsnbextension~=3.5.0->ipywidgets>=7.0.0->gmaps) (2.0.1)\n",
            "Requirement already satisfied: testpath in /usr/local/lib/python3.7/dist-packages (from nbconvert->notebook>=4.4.1->widgetsnbextension~=3.5.0->ipywidgets>=7.0.0->gmaps) (0.5.0)\n",
            "Requirement already satisfied: mistune<2,>=0.8.1 in /usr/local/lib/python3.7/dist-packages (from nbconvert->notebook>=4.4.1->widgetsnbextension~=3.5.0->ipywidgets>=7.0.0->gmaps) (0.8.4)\n",
            "Requirement already satisfied: entrypoints>=0.2.2 in /usr/local/lib/python3.7/dist-packages (from nbconvert->notebook>=4.4.1->widgetsnbextension~=3.5.0->ipywidgets>=7.0.0->gmaps) (0.3)\n",
            "Requirement already satisfied: defusedxml in /usr/local/lib/python3.7/dist-packages (from nbconvert->notebook>=4.4.1->widgetsnbextension~=3.5.0->ipywidgets>=7.0.0->gmaps) (0.7.1)\n",
            "Requirement already satisfied: bleach in /usr/local/lib/python3.7/dist-packages (from nbconvert->notebook>=4.4.1->widgetsnbextension~=3.5.0->ipywidgets>=7.0.0->gmaps) (4.1.0)\n",
            "Requirement already satisfied: pandocfilters>=1.4.1 in /usr/local/lib/python3.7/dist-packages (from nbconvert->notebook>=4.4.1->widgetsnbextension~=3.5.0->ipywidgets>=7.0.0->gmaps) (1.5.0)\n",
            "Requirement already satisfied: packaging in /usr/local/lib/python3.7/dist-packages (from bleach->nbconvert->notebook>=4.4.1->widgetsnbextension~=3.5.0->ipywidgets>=7.0.0->gmaps) (21.3)\n",
            "Requirement already satisfied: webencodings in /usr/local/lib/python3.7/dist-packages (from bleach->nbconvert->notebook>=4.4.1->widgetsnbextension~=3.5.0->ipywidgets>=7.0.0->gmaps) (0.5.1)\n",
            "Requirement already satisfied: pyparsing!=3.0.5,>=2.0.2 in /usr/local/lib/python3.7/dist-packages (from packaging->bleach->nbconvert->notebook>=4.4.1->widgetsnbextension~=3.5.0->ipywidgets>=7.0.0->gmaps) (3.0.6)\n",
            "Building wheels for collected packages: gmaps\n",
            "  Building wheel for gmaps (setup.py) ... \u001b[?25l\u001b[?25hdone\n",
            "  Created wheel for gmaps: filename=gmaps-0.9.0-py2.py3-none-any.whl size=2076111 sha256=97ac65fc9f6636036a880b091382f6a1da6870096eec437c79c0cb2edffbf631\n",
            "  Stored in directory: /root/.cache/pip/wheels/3d/1c/cb/c46f4199210e632b28d78d05a00bfdccbf6dfcd3f5b051d6bf\n",
            "Successfully built gmaps\n",
            "Installing collected packages: geojson, gmaps\n",
            "Successfully installed geojson-2.5.0 gmaps-0.9.0\n"
          ]
        }
      ]
    },
    {
      "cell_type": "code",
      "source": [
        "# Questão:\n",
        "\n",
        "# Identifique o nome dos locais onde os devices estão localizados plotando no mapa as coordenadas"
      ],
      "metadata": {
        "id": "ScIe5CClygyT"
      },
      "execution_count": 17,
      "outputs": []
    },
    {
      "cell_type": "code",
      "source": [
        "# VER exemplos: https://github.com/pbugnion/gmaps\n",
        "import gmaps\n",
        "import gmaps.datasets\n",
        "\n",
        "# Obter api_key: https://console.cloud.google.com/projectselector2/google/maps-apis/credentials\n",
        "\n",
        "gmaps.configure(api_key=\"GERAR_A_SUA_API_KEY\") # Your Google API key\n",
        "\n",
        "fig = gmaps.figure()\n",
        "\n",
        "fig.add_layer(gmaps.marker_layer(locs))\n",
        "\n",
        "fig"
      ],
      "metadata": {
        "colab": {
          "base_uri": "https://localhost:8080/",
          "height": 465,
          "referenced_widgets": [
            "7ce2bda92d2c48ddb5a98c37a4bf13d6",
            "a2dffb80623f410487bdf31a0ee215e5",
            "43c8372f55484100b1cd62ed872650f6",
            "02ffeaf954574ed98812571426d8fb38",
            "cbeff98eec734054a9ac9ef85ae056a1",
            "f206c58d28694759b91fd2fd93f53e21",
            "26a5f65563864e72ad49dc1ff2b30c29",
            "b0413faa3e89422f9953887efdb02884",
            "c663f88f778b429e8cbc5396e02f1bb9",
            "357212298db04848a6e85926ffa8b10c",
            "b99da2c135764055b4152833eb433475",
            "e44ba1bbac064f3f8fe857700cc782c1"
          ]
        },
        "id": "MfT-YFgu8FbI",
        "outputId": "bdb5f6e7-3f45-4be7-881b-561418ebb025"
      },
      "execution_count": 22,
      "outputs": [
        {
          "output_type": "display_data",
          "data": {
            "application/vnd.jupyter.widget-view+json": {
              "model_id": "7ce2bda92d2c48ddb5a98c37a4bf13d6",
              "version_minor": 0,
              "version_major": 2
            },
            "text/plain": [
              "Figure(layout=FigureLayout(height='420px'))"
            ]
          },
          "metadata": {
            "application/vnd.jupyter.widget-view+json": {
              "colab": {
                "custom_widget_manager": {
                  "url": "https://ssl.gstatic.com/colaboratory-static/widgets/colab-cdn-widget-manager/a8874ba6619b6106/manager.min.js"
                }
              }
            }
          }
        }
      ]
    }
  ]
}
